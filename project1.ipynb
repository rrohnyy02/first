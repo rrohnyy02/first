{
  "nbformat": 4,
  "nbformat_minor": 0,
  "metadata": {
    "colab": {
      "name": "project1.ipynb",
      "provenance": [],
      "collapsed_sections": [],
      "authorship_tag": "ABX9TyO1xrTLyhTYskm0e9VXTaOm",
      "include_colab_link": true
    },
    "kernelspec": {
      "name": "python3",
      "display_name": "Python 3"
    },
    "language_info": {
      "name": "python"
    }
  },
  "cells": [
    {
      "cell_type": "markdown",
      "metadata": {
        "id": "view-in-github",
        "colab_type": "text"
      },
      "source": [
        "<a href=\"https://colab.research.google.com/github/rrohnyy02/first/blob/main/project1.ipynb\" target=\"_parent\"><img src=\"https://colab.research.google.com/assets/colab-badge.svg\" alt=\"Open In Colab\"/></a>"
      ]
    },
    {
      "cell_type": "code",
      "execution_count": null,
      "metadata": {
        "id": "NTyT-cqQ_EH1"
      },
      "outputs": [],
      "source": [
        "from bs4 import BeautifulSoup as bs\n",
        "import requests "
      ]
    },
    {
      "cell_type": "code",
      "source": [
        " r = requests.get(\"https://en.wikipedia.org/wiki/Toy_Story_3\")"
      ],
      "metadata": {
        "id": "71K5SxwSAQtk"
      },
      "execution_count": null,
      "outputs": []
    },
    {
      "cell_type": "code",
      "source": [
        "soup = bs(r.content)"
      ],
      "metadata": {
        "id": "1ujGv-OaAQv3"
      },
      "execution_count": null,
      "outputs": []
    },
    {
      "cell_type": "code",
      "source": [
        "contents = soup.prettify()"
      ],
      "metadata": {
        "id": "5bWkaC1XAQyT"
      },
      "execution_count": null,
      "outputs": []
    },
    {
      "cell_type": "code",
      "source": [
        "print (contents \n",
        "       \n",
        "       )"
      ],
      "metadata": {
        "id": "CP50rlgSAQ27"
      },
      "execution_count": null,
      "outputs": []
    },
    {
      "cell_type": "code",
      "source": [
        "infobox = soup.find(class_= \"infobox vevent\")"
      ],
      "metadata": {
        "id": "MS8RNLG6AQ5R"
      },
      "execution_count": null,
      "outputs": []
    },
    {
      "cell_type": "code",
      "source": [
        "print(infobox.prettify())"
      ],
      "metadata": {
        "id": "Jf4lw9GaAQ7I"
      },
      "execution_count": null,
      "outputs": []
    },
    {
      "cell_type": "code",
      "source": [
        "rowsm = infobox.find_all(\"tr\")\n",
        "\n",
        "for i in rowsm:\n",
        "  print (i.prettify())\n",
        "  for j in range(4):\n",
        "    print(\"\\n\")"
      ],
      "metadata": {
        "id": "kXUg0MpoAQ9n"
      },
      "execution_count": null,
      "outputs": []
    },
    {
      "cell_type": "code",
      "source": [
        "d = {}\n",
        "\n",
        "\n",
        "for index, row in enumerate(rowsm):\n",
        "  if index == 0:\n",
        "    d[\"title\"] = row.find(\"th\").get_text(\" \", strip = True)\n",
        "  elif index == 1:\n",
        "    continue\n",
        "  else:\n",
        "    if row.find(\"li\"):\n",
        "      d[row.find(\"th\").get_text(\" \", strip = True)] = [i.get_text(\" \", strip = True).replace(\"\\xa0\",\"\") for i in row.find_all(\"li\")]\n",
        "    else:\n",
        "      d[row.find(\"th\").get_text(\" \", strip = True)] = row.find(\"td\").get_text(\" \", strip = True).replace(\"\\xa0\",\"\")"
      ],
      "metadata": {
        "id": "2zykzLa9AK3_"
      },
      "execution_count": null,
      "outputs": []
    },
    {
      "cell_type": "code",
      "source": [
        "d"
      ],
      "metadata": {
        "id": "IDMzikQ_AK7R"
      },
      "execution_count": null,
      "outputs": []
    },
    {
      "cell_type": "code",
      "source": [
        "for i in d.keys():\n",
        "  d[i] = str(d[i]).replace(\"xa0\",\"\")\n",
        "  d[i] = str(d[i]).replace(\"[1]\",\"\")\n",
        "  d[i] = str(d[i]).replace(\"\\\\\",\"\")\n"
      ],
      "metadata": {
        "id": "ZfheyjmbAK97"
      },
      "execution_count": null,
      "outputs": []
    },
    {
      "cell_type": "code",
      "source": [
        "d"
      ],
      "metadata": {
        "id": "GPiHZf_EALAg"
      },
      "execution_count": null,
      "outputs": []
    },
    {
      "cell_type": "code",
      "source": [
        "d1 = d"
      ],
      "metadata": {
        "id": "nxqvWkLVALCU"
      },
      "execution_count": null,
      "outputs": []
    },
    {
      "cell_type": "code",
      "source": [
        "d1"
      ],
      "metadata": {
        "id": "IOgBgBv-ALEj"
      },
      "execution_count": null,
      "outputs": []
    },
    {
      "cell_type": "code",
      "source": [
        "for i in d1.keys():\n",
        "  d1[i] = str(d1[i]).replace(\"\\xa0\",\" \")\n",
        "  d1[i] = str(d1[i]).replace(\"[1]\",\"\")\n",
        "  d1[i] = str(d1[i]).replace(\"\\\\\",\"\")\n",
        "\n"
      ],
      "metadata": {
        "id": "EXfm327AALHD"
      },
      "execution_count": null,
      "outputs": []
    },
    {
      "cell_type": "code",
      "source": [
        "d1"
      ],
      "metadata": {
        "id": "upTDyubufVAQ"
      },
      "execution_count": null,
      "outputs": []
    },
    {
      "cell_type": "code",
      "source": [
        "m= d1.copy()"
      ],
      "metadata": {
        "id": "RDmyg4k3f0zw"
      },
      "execution_count": null,
      "outputs": []
    },
    {
      "cell_type": "code",
      "source": [
        "m = requests.get(\"https://en.wikipedia.org/wiki/List_of_Walt_Disney_Pictures_films\")\n",
        "obj = bs(m.content)\n"
      ],
      "metadata": {
        "id": "xuJtebUIf1Kp"
      },
      "execution_count": null,
      "outputs": []
    },
    {
      "cell_type": "code",
      "source": [
        "m0 = obj.select(\".wikitable.sortable i\")"
      ],
      "metadata": {
        "id": "bTWAQ3_uf1S3"
      },
      "execution_count": null,
      "outputs": []
    },
    {
      "cell_type": "code",
      "source": [
        "j = {}"
      ],
      "metadata": {
        "id": "FEc6EvTYf1bI"
      },
      "execution_count": null,
      "outputs": []
    },
    {
      "cell_type": "code",
      "source": [
        "for i in range(len(m0)):\n",
        "  j[m0[i].get_text()] = m0[i].a[\"href\"]"
      ],
      "metadata": {
        "id": "6F2_vcAjcowE"
      },
      "execution_count": null,
      "outputs": []
    },
    {
      "cell_type": "code",
      "source": [
        ""
      ],
      "metadata": {
        "id": "40zKPCzfc7sN"
      },
      "execution_count": null,
      "outputs": []
    },
    {
      "cell_type": "code",
      "source": [
        "m0[0]"
      ],
      "metadata": {
        "id": "8ItkLGG5nuLX"
      },
      "execution_count": null,
      "outputs": []
    },
    {
      "cell_type": "code",
      "source": [
        "m0[0].a[\"href\"]"
      ],
      "metadata": {
        "id": "CtPGsOOTf1jV"
      },
      "execution_count": null,
      "outputs": []
    },
    {
      "cell_type": "code",
      "source": [
        "m0[0].get_text()"
      ],
      "metadata": {
        "id": "cD-Ehrwxf1rt"
      },
      "execution_count": null,
      "outputs": []
    }
  ]
}